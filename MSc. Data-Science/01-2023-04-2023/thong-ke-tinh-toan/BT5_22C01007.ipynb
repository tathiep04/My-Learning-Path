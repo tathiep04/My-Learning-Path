{
 "cells": [
  {
   "cell_type": "code",
   "execution_count": 1,
   "id": "3370d222",
   "metadata": {},
   "outputs": [],
   "source": [
    "import numpy as np\n",
    "from scipy.integrate import quad\n",
    "from scipy import integrate"
   ]
  },
  {
   "cell_type": "code",
   "execution_count": 2,
   "id": "87ff1597",
   "metadata": {},
   "outputs": [],
   "source": [
    "#Tao 1 ham g(x)= 2x+3\n",
    "n1 = 10**2; n2 = 10**3; n3 = 10**4\n",
    "# Cho a =1, b=10\n",
    "a = 1; b = 10\n",
    "x = np.random.uniform(1,10, size=n3)\n",
    "y = 2*x+3"
   ]
  },
  {
   "cell_type": "code",
   "execution_count": 3,
   "id": "21331283",
   "metadata": {},
   "outputs": [
    {
     "data": {
      "text/plain": [
       "125.66731894170877"
      ]
     },
     "execution_count": 3,
     "metadata": {},
     "output_type": "execute_result"
    }
   ],
   "source": [
    "#MC - Monte Carlo\n",
    "tb_thucnghiem = np.mean(y)\n",
    "I_MC = tb_thucnghiem* (b-a)\n",
    "I_MC"
   ]
  },
  {
   "cell_type": "code",
   "execution_count": 4,
   "id": "1cd2cd2f",
   "metadata": {},
   "outputs": [
    {
     "data": {
      "text/plain": [
       "126.0"
      ]
     },
     "execution_count": 4,
     "metadata": {},
     "output_type": "execute_result"
    }
   ],
   "source": [
    "xa = lambda x: (2*x+3)\n",
    "ketqua = integrate.quad(xa, a, b)\n",
    "ketqua[0]"
   ]
  },
  {
   "cell_type": "markdown",
   "id": "9da965c6",
   "metadata": {},
   "source": [
    "2 ẩn X, Y. 2D/Tích phân 2 lớp"
   ]
  },
  {
   "cell_type": "code",
   "execution_count": 5,
   "id": "8780eb4f",
   "metadata": {},
   "outputs": [],
   "source": [
    "n = 10**5\n",
    "x = np.random.uniform(0,1, size=n)\n",
    "y = np.random.uniform(0,1, size=n)\n",
    "fxy = x**2 + y**2"
   ]
  },
  {
   "cell_type": "code",
   "execution_count": 6,
   "id": "1c042129",
   "metadata": {},
   "outputs": [
    {
     "name": "stdout",
     "output_type": "stream",
     "text": [
      "0.6661314952846003\n",
      "0.6666666666666669\n"
     ]
    }
   ],
   "source": [
    "I = np.mean(fxy)\n",
    "print(I)\n",
    "f = lambda y, x: x**2 + y**2\n",
    "ketqua = integrate.dblquad(f, 0, 1, 0, 1)\n",
    "print(ketqua[0])"
   ]
  },
  {
   "cell_type": "code",
   "execution_count": null,
   "id": "04720835",
   "metadata": {},
   "outputs": [],
   "source": []
  }
 ],
 "metadata": {
  "kernelspec": {
   "display_name": "Python 3",
   "language": "python",
   "name": "python3"
  },
  "language_info": {
   "codemirror_mode": {
    "name": "ipython",
    "version": 3
   },
   "file_extension": ".py",
   "mimetype": "text/x-python",
   "name": "python",
   "nbconvert_exporter": "python",
   "pygments_lexer": "ipython3",
   "version": "3.8.8"
  }
 },
 "nbformat": 4,
 "nbformat_minor": 5
}
