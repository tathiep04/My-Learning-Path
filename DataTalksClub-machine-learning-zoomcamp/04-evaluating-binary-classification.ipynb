{
  "nbformat": 4,
  "nbformat_minor": 0,
  "metadata": {
    "colab": {
      "provenance": []
    },
    "kernelspec": {
      "name": "python3",
      "display_name": "Python 3"
    },
    "language_info": {
      "name": "python"
    }
  },
  "cells": [
    {
      "cell_type": "code",
      "execution_count": 1,
      "metadata": {
        "colab": {
          "base_uri": "https://localhost:8080/"
        },
        "id": "cE6uryhvEJdp",
        "outputId": "67a0e87e-13c3-43ee-dd3d-a1982f1dc12a"
      },
      "outputs": [
        {
          "output_type": "stream",
          "name": "stdout",
          "text": [
            "--2023-10-11 17:24:24--  https://raw.githubusercontent.com/alexeygrigorev/mlbookcamp-code/master/chapter-02-car-price/data.csv\n",
            "Resolving raw.githubusercontent.com (raw.githubusercontent.com)... 185.199.108.133, 185.199.109.133, 185.199.110.133, ...\n",
            "Connecting to raw.githubusercontent.com (raw.githubusercontent.com)|185.199.108.133|:443... connected.\n",
            "HTTP request sent, awaiting response... 200 OK\n",
            "Length: 1475504 (1.4M) [text/plain]\n",
            "Saving to: ‘data.csv.2’\n",
            "\n",
            "\rdata.csv.2            0%[                    ]       0  --.-KB/s               \rdata.csv.2          100%[===================>]   1.41M  --.-KB/s    in 0.09s   \n",
            "\n",
            "2023-10-11 17:24:24 (16.4 MB/s) - ‘data.csv.2’ saved [1475504/1475504]\n",
            "\n"
          ]
        }
      ],
      "source": [
        "!wget https://raw.githubusercontent.com/alexeygrigorev/mlbookcamp-code/master/chapter-02-car-price/data.csv"
      ]
    },
    {
      "cell_type": "code",
      "source": [
        "import numpy as np\n",
        "import pandas as pd\n",
        "from sklearn.model_selection import train_test_split\n",
        "from sklearn import metrics\n",
        "from sklearn.metrics import roc_auc_score, accuracy_score\n",
        "from sklearn.feature_extraction import DictVectorizer\n",
        "from sklearn.linear_model import LogisticRegression\n",
        "from sklearn.metrics import classification_report\n",
        "from sklearn.metrics import precision_score, recall_score, f1_score\n",
        "import matplotlib.pyplot as plt"
      ],
      "metadata": {
        "id": "u_ulPKnwEj6Q"
      },
      "execution_count": 2,
      "outputs": []
    },
    {
      "cell_type": "code",
      "source": [
        "# Load data\n",
        "df = pd.read_csv('data.csv')\n",
        "# Only keep these column\n",
        "df = df[['Make', 'Model', 'Year', 'Engine HP', 'Engine Cylinders',\n",
        "         'Transmission Type', 'Vehicle Style', 'highway MPG', 'city mpg',\n",
        "         'MSRP']]\n",
        "df.columns = df.columns.str.replace(' ', '_').str.lower()\n",
        "# Replace NaN values with 0\n",
        "df.fillna(0, inplace=True)\n",
        "# Rename mrsp: price\n",
        "df.rename(columns={'msrp': 'price'}, inplace=True)\n",
        "# Make variable named above_average\n",
        "avg = np.mean(df['price'])\n",
        "df['above_average'] = (df['price'] > avg).astype(int)\n",
        "\n",
        "#\n",
        "X = df.drop(['price', \"above_average\"], axis=1)\n",
        "y = df['above_average']\n",
        "print(X.columns)"
      ],
      "metadata": {
        "colab": {
          "base_uri": "https://localhost:8080/"
        },
        "id": "deRKWTx1EoUf",
        "outputId": "94c89e50-0cd7-4f00-a753-fab76c198f79"
      },
      "execution_count": 3,
      "outputs": [
        {
          "output_type": "stream",
          "name": "stdout",
          "text": [
            "Index(['make', 'model', 'year', 'engine_hp', 'engine_cylinders',\n",
            "       'transmission_type', 'vehicle_style', 'highway_mpg', 'city_mpg'],\n",
            "      dtype='object')\n"
          ]
        }
      ]
    },
    {
      "cell_type": "code",
      "source": [
        "X_train, X_test, y_train, y_test = train_test_split(X, y, test_size=0.2, random_state=1)\n",
        "X_train, X_val, y_train, y_val = train_test_split(X_train, y_train, test_size=0.25, random_state=1)"
      ],
      "metadata": {
        "id": "yU8WszIoGAu-"
      },
      "execution_count": 4,
      "outputs": []
    },
    {
      "cell_type": "code",
      "source": [
        "X.info()"
      ],
      "metadata": {
        "colab": {
          "base_uri": "https://localhost:8080/"
        },
        "id": "HDj8QV98LyN5",
        "outputId": "16fd281b-b166-4f82-e9e1-dc1f76c96a98"
      },
      "execution_count": 5,
      "outputs": [
        {
          "output_type": "stream",
          "name": "stdout",
          "text": [
            "<class 'pandas.core.frame.DataFrame'>\n",
            "RangeIndex: 11914 entries, 0 to 11913\n",
            "Data columns (total 9 columns):\n",
            " #   Column             Non-Null Count  Dtype  \n",
            "---  ------             --------------  -----  \n",
            " 0   make               11914 non-null  object \n",
            " 1   model              11914 non-null  object \n",
            " 2   year               11914 non-null  int64  \n",
            " 3   engine_hp          11914 non-null  float64\n",
            " 4   engine_cylinders   11914 non-null  float64\n",
            " 5   transmission_type  11914 non-null  object \n",
            " 6   vehicle_style      11914 non-null  object \n",
            " 7   highway_mpg        11914 non-null  int64  \n",
            " 8   city_mpg           11914 non-null  int64  \n",
            "dtypes: float64(2), int64(3), object(4)\n",
            "memory usage: 837.8+ KB\n"
          ]
        }
      ]
    },
    {
      "cell_type": "code",
      "source": [
        "X.columns"
      ],
      "metadata": {
        "colab": {
          "base_uri": "https://localhost:8080/"
        },
        "id": "MLCkM0BEHGvf",
        "outputId": "6154b50b-5dbb-455c-ad75-238bfd90ce92"
      },
      "execution_count": 6,
      "outputs": [
        {
          "output_type": "execute_result",
          "data": {
            "text/plain": [
              "Index(['make', 'model', 'year', 'engine_hp', 'engine_cylinders',\n",
              "       'transmission_type', 'vehicle_style', 'highway_mpg', 'city_mpg'],\n",
              "      dtype='object')"
            ]
          },
          "metadata": {},
          "execution_count": 6
        }
      ]
    },
    {
      "cell_type": "code",
      "source": [
        "numerical = ['engine_hp', 'engine_cylinders', 'highway_mpg', 'city_mpg']\n",
        "auc_dct = {}\n",
        "for item in numerical:\n",
        "  fpr, tpr, thresholds = metrics.roc_curve(X_train[item], y_train, pos_label=2)\n",
        "  result = metrics.auc(fpr, tpr)\n",
        "  auc_dct.update({item: result})"
      ],
      "metadata": {
        "colab": {
          "base_uri": "https://localhost:8080/"
        },
        "id": "OLZDGsgGHQFn",
        "outputId": "89c8305a-5f75-47d2-832d-e8673c1ed5a8"
      },
      "execution_count": 7,
      "outputs": [
        {
          "output_type": "stream",
          "name": "stderr",
          "text": [
            "/usr/local/lib/python3.10/dist-packages/sklearn/metrics/_ranking.py:1029: UndefinedMetricWarning: No positive samples in y_true, true positive value should be meaningless\n",
            "  warnings.warn(\n",
            "/usr/local/lib/python3.10/dist-packages/sklearn/metrics/_ranking.py:1029: UndefinedMetricWarning: No positive samples in y_true, true positive value should be meaningless\n",
            "  warnings.warn(\n",
            "/usr/local/lib/python3.10/dist-packages/sklearn/metrics/_ranking.py:1029: UndefinedMetricWarning: No positive samples in y_true, true positive value should be meaningless\n",
            "  warnings.warn(\n",
            "/usr/local/lib/python3.10/dist-packages/sklearn/metrics/_ranking.py:1029: UndefinedMetricWarning: No positive samples in y_true, true positive value should be meaningless\n",
            "  warnings.warn(\n"
          ]
        }
      ]
    },
    {
      "cell_type": "code",
      "source": [
        "auc_scores = []\n",
        "numerical = ['engine_hp', 'engine_cylinders', 'highway_mpg', 'city_mpg']\n",
        "auc_dct = {}\n",
        "for variable in numerical:\n",
        "    auc = roc_auc_score(y_train, X_train[variable])\n",
        "    if auc < 0.5:\n",
        "        auc = roc_auc_score(y_train, -X_train[variable])\n",
        "    auc_scores.append(auc)"
      ],
      "metadata": {
        "id": "0woXNnddLCMe"
      },
      "execution_count": 8,
      "outputs": []
    },
    {
      "cell_type": "code",
      "source": [
        "highest_auc_variable = numerical[auc_scores.index(max(auc_scores))]\n",
        "for i, variable in enumerate(numerical):\n",
        "    print(f\"{variable}: {auc_scores[i]}\")"
      ],
      "metadata": {
        "id": "RBgcdlMzMUs_",
        "colab": {
          "base_uri": "https://localhost:8080/"
        },
        "outputId": "8808bd17-ca5e-494a-e458-e3e736cbe336"
      },
      "execution_count": 9,
      "outputs": [
        {
          "output_type": "stream",
          "name": "stdout",
          "text": [
            "engine_hp: 0.9171031265539011\n",
            "engine_cylinders: 0.766116490165669\n",
            "highway_mpg: 0.6330587871772013\n",
            "city_mpg: 0.6734244643245233\n"
          ]
        }
      ]
    },
    {
      "cell_type": "code",
      "source": [
        "def onehot_encode(dataset):\n",
        "  '''\n",
        "  **Params:\n",
        "  dataset: loading the dataset name\n",
        "  -----------------------\n",
        "  **Return:\n",
        "  return dataset after apply one hot encoding\n",
        "  '''\n",
        "  categorical = [\"make\", \"model\", \"transmission_type\", \"vehicle_style\"]\n",
        "  numerical = [\"year\", \"engine_hp\", \"engine_cylinders\", \"highway_mpg\", \"city_mpg\"]\n",
        "  train_dicts = dataset[categorical + numerical].to_dict(orient='records')\n",
        "  dv = DictVectorizer(sparse=False)\n",
        "  X = dv.fit_transform(train_dicts)\n",
        "  feature_name = dv.get_feature_names_out()\n",
        "  return X, feature_name"
      ],
      "metadata": {
        "id": "qcUFiCfN77dI"
      },
      "execution_count": 10,
      "outputs": []
    },
    {
      "cell_type": "code",
      "source": [
        "X, name = onehot_encode(X)\n",
        "X_train, X_test, y_train, y_test = train_test_split(X, y, test_size=0.2, random_state=1)\n",
        "X_train, X_val, y_train, y_val = train_test_split(X_train, y_train, test_size=0.25, random_state=1)\n",
        "model = LogisticRegression(solver='liblinear', C=1.0, max_iter=1000)\n",
        "model.fit(X_train, y_train)"
      ],
      "metadata": {
        "colab": {
          "base_uri": "https://localhost:8080/",
          "height": 75
        },
        "id": "721D0Ib0GFKZ",
        "outputId": "44249658-7648-4de1-e4c9-f9738bf639b5"
      },
      "execution_count": 11,
      "outputs": [
        {
          "output_type": "execute_result",
          "data": {
            "text/plain": [
              "LogisticRegression(max_iter=1000, solver='liblinear')"
            ],
            "text/html": [
              "<style>#sk-container-id-1 {color: black;background-color: white;}#sk-container-id-1 pre{padding: 0;}#sk-container-id-1 div.sk-toggleable {background-color: white;}#sk-container-id-1 label.sk-toggleable__label {cursor: pointer;display: block;width: 100%;margin-bottom: 0;padding: 0.3em;box-sizing: border-box;text-align: center;}#sk-container-id-1 label.sk-toggleable__label-arrow:before {content: \"▸\";float: left;margin-right: 0.25em;color: #696969;}#sk-container-id-1 label.sk-toggleable__label-arrow:hover:before {color: black;}#sk-container-id-1 div.sk-estimator:hover label.sk-toggleable__label-arrow:before {color: black;}#sk-container-id-1 div.sk-toggleable__content {max-height: 0;max-width: 0;overflow: hidden;text-align: left;background-color: #f0f8ff;}#sk-container-id-1 div.sk-toggleable__content pre {margin: 0.2em;color: black;border-radius: 0.25em;background-color: #f0f8ff;}#sk-container-id-1 input.sk-toggleable__control:checked~div.sk-toggleable__content {max-height: 200px;max-width: 100%;overflow: auto;}#sk-container-id-1 input.sk-toggleable__control:checked~label.sk-toggleable__label-arrow:before {content: \"▾\";}#sk-container-id-1 div.sk-estimator input.sk-toggleable__control:checked~label.sk-toggleable__label {background-color: #d4ebff;}#sk-container-id-1 div.sk-label input.sk-toggleable__control:checked~label.sk-toggleable__label {background-color: #d4ebff;}#sk-container-id-1 input.sk-hidden--visually {border: 0;clip: rect(1px 1px 1px 1px);clip: rect(1px, 1px, 1px, 1px);height: 1px;margin: -1px;overflow: hidden;padding: 0;position: absolute;width: 1px;}#sk-container-id-1 div.sk-estimator {font-family: monospace;background-color: #f0f8ff;border: 1px dotted black;border-radius: 0.25em;box-sizing: border-box;margin-bottom: 0.5em;}#sk-container-id-1 div.sk-estimator:hover {background-color: #d4ebff;}#sk-container-id-1 div.sk-parallel-item::after {content: \"\";width: 100%;border-bottom: 1px solid gray;flex-grow: 1;}#sk-container-id-1 div.sk-label:hover label.sk-toggleable__label {background-color: #d4ebff;}#sk-container-id-1 div.sk-serial::before {content: \"\";position: absolute;border-left: 1px solid gray;box-sizing: border-box;top: 0;bottom: 0;left: 50%;z-index: 0;}#sk-container-id-1 div.sk-serial {display: flex;flex-direction: column;align-items: center;background-color: white;padding-right: 0.2em;padding-left: 0.2em;position: relative;}#sk-container-id-1 div.sk-item {position: relative;z-index: 1;}#sk-container-id-1 div.sk-parallel {display: flex;align-items: stretch;justify-content: center;background-color: white;position: relative;}#sk-container-id-1 div.sk-item::before, #sk-container-id-1 div.sk-parallel-item::before {content: \"\";position: absolute;border-left: 1px solid gray;box-sizing: border-box;top: 0;bottom: 0;left: 50%;z-index: -1;}#sk-container-id-1 div.sk-parallel-item {display: flex;flex-direction: column;z-index: 1;position: relative;background-color: white;}#sk-container-id-1 div.sk-parallel-item:first-child::after {align-self: flex-end;width: 50%;}#sk-container-id-1 div.sk-parallel-item:last-child::after {align-self: flex-start;width: 50%;}#sk-container-id-1 div.sk-parallel-item:only-child::after {width: 0;}#sk-container-id-1 div.sk-dashed-wrapped {border: 1px dashed gray;margin: 0 0.4em 0.5em 0.4em;box-sizing: border-box;padding-bottom: 0.4em;background-color: white;}#sk-container-id-1 div.sk-label label {font-family: monospace;font-weight: bold;display: inline-block;line-height: 1.2em;}#sk-container-id-1 div.sk-label-container {text-align: center;}#sk-container-id-1 div.sk-container {/* jupyter's `normalize.less` sets `[hidden] { display: none; }` but bootstrap.min.css set `[hidden] { display: none !important; }` so we also need the `!important` here to be able to override the default hidden behavior on the sphinx rendered scikit-learn.org. See: https://github.com/scikit-learn/scikit-learn/issues/21755 */display: inline-block !important;position: relative;}#sk-container-id-1 div.sk-text-repr-fallback {display: none;}</style><div id=\"sk-container-id-1\" class=\"sk-top-container\"><div class=\"sk-text-repr-fallback\"><pre>LogisticRegression(max_iter=1000, solver=&#x27;liblinear&#x27;)</pre><b>In a Jupyter environment, please rerun this cell to show the HTML representation or trust the notebook. <br />On GitHub, the HTML representation is unable to render, please try loading this page with nbviewer.org.</b></div><div class=\"sk-container\" hidden><div class=\"sk-item\"><div class=\"sk-estimator sk-toggleable\"><input class=\"sk-toggleable__control sk-hidden--visually\" id=\"sk-estimator-id-1\" type=\"checkbox\" checked><label for=\"sk-estimator-id-1\" class=\"sk-toggleable__label sk-toggleable__label-arrow\">LogisticRegression</label><div class=\"sk-toggleable__content\"><pre>LogisticRegression(max_iter=1000, solver=&#x27;liblinear&#x27;)</pre></div></div></div></div></div>"
            ]
          },
          "metadata": {},
          "execution_count": 11
        }
      ]
    },
    {
      "cell_type": "code",
      "source": [
        "y_pred = model.predict(X_val)\n",
        "round(accuracy_score(y_pred, y_val),3)"
      ],
      "metadata": {
        "colab": {
          "base_uri": "https://localhost:8080/"
        },
        "id": "QcD6KE51GSzS",
        "outputId": "f91c7d23-a0e4-419f-e8f2-2380c8b27b9f"
      },
      "execution_count": 12,
      "outputs": [
        {
          "output_type": "execute_result",
          "data": {
            "text/plain": [
              "0.935"
            ]
          },
          "metadata": {},
          "execution_count": 12
        }
      ]
    },
    {
      "cell_type": "code",
      "source": [
        "report = classification_report(y_val, y_pred)\n",
        "print(report)"
      ],
      "metadata": {
        "colab": {
          "base_uri": "https://localhost:8080/"
        },
        "id": "mqYpqKajJI4k",
        "outputId": "ee0be4f7-af06-40ba-973a-b7019f007410"
      },
      "execution_count": 13,
      "outputs": [
        {
          "output_type": "stream",
          "name": "stdout",
          "text": [
            "              precision    recall  f1-score   support\n",
            "\n",
            "           0       0.95      0.96      0.96      1729\n",
            "           1       0.89      0.87      0.88       654\n",
            "\n",
            "    accuracy                           0.93      2383\n",
            "   macro avg       0.92      0.91      0.92      2383\n",
            "weighted avg       0.93      0.93      0.93      2383\n",
            "\n"
          ]
        }
      ]
    },
    {
      "cell_type": "code",
      "source": [
        "thresholds = np.arange(0, 1.01, 0.01)\n",
        "precisions = []\n",
        "recalls = []\n",
        "f1 = []\n",
        "for threshold in thresholds:\n",
        "  #predicted_labels = [1 if score >= threshold else 0 for score in y_pred]\n",
        "  precision = precision_score(y_val, y_pred)\n",
        "  recall = recall_score(y_val, y_pred)\n",
        "  f1_s = f1_score(y_val, y_pred)\n",
        "  precisions.append(precision)\n",
        "  recalls.append(recall)\n",
        "  f1.append(f1_s)\n",
        "\n",
        "# Plot the precision-recall curve\n",
        "plt.figure(figsize=(8, 6))\n",
        "plt.plot(recalls, precisions, marker='o', linestyle='-', color='b')\n",
        "plt.xlabel('Recall')\n",
        "plt.ylabel('Precision')\n",
        "plt.title('Precision-Recall Curve')\n",
        "plt.grid(True)"
      ],
      "metadata": {
        "colab": {
          "base_uri": "https://localhost:8080/",
          "height": 564
        },
        "id": "BSRXn2k_JLx9",
        "outputId": "a030ba4a-104a-42bc-9c41-144fd33f832a"
      },
      "execution_count": 14,
      "outputs": [
        {
          "output_type": "display_data",
          "data": {
            "text/plain": [
              "<Figure size 800x600 with 1 Axes>"
            ],
            "image/png": "[encoded data removed]"
          },
          "metadata": {}
        }
      ]
    },
    {
      "cell_type": "code",
      "source": [
        "max_value = max(f1)  # Find the maximum value\n",
        "max_index = f1.index(max_value)\n",
        "print(thresholds[max_index])"
      ],
      "metadata": {
        "colab": {
          "base_uri": "https://localhost:8080/"
        },
        "id": "f0auusr0O63q",
        "outputId": "90474372-1b89-4ebf-b1b6-c2bf3d4e4820"
      },
      "execution_count": 15,
      "outputs": [
        {
          "output_type": "stream",
          "name": "stdout",
          "text": [
            "0.0\n"
          ]
        }
      ]
    },
    {
      "cell_type": "code",
      "source": [
        "from sklearn.model_selection import KFold\n",
        "kfold = KFold(n_splits=5, shuffle=True, random_state=1)\n",
        "X = df.drop(['price', \"above_average\"], axis=1)\n",
        "y = df['above_average']\n",
        "X, name = onehot_encode(X)\n",
        "\n",
        "def train_model(X,y, C_num=1.0):\n",
        "  acc_lst = []\n",
        "  for train_idx, val_idx in kfold.split(X):\n",
        "    X_train = X[train_idx]\n",
        "    X_val = X[val_idx]\n",
        "\n",
        "    y_train = y[train_idx]\n",
        "    y_val = y[val_idx]\n",
        "\n",
        "    model = LogisticRegression(solver='liblinear', C=C_num, max_iter=1000)\n",
        "    model.fit(X_train, y_train)\n",
        "    y_pred = model.predict(X_val)\n",
        "    result = round(accuracy_score(y_pred, y_val),3)\n",
        "    acc_lst.append(result)\n",
        "\n",
        "  return acc_lst\n"
      ],
      "metadata": {
        "id": "xFaH_DxQPkXa"
      },
      "execution_count": 23,
      "outputs": []
    },
    {
      "cell_type": "code",
      "source": [
        "lst = train_model(X,y)\n",
        "np.std(lst)"
      ],
      "metadata": {
        "colab": {
          "base_uri": "https://localhost:8080/"
        },
        "id": "BgH3rT4p0BzO",
        "outputId": "137c7931-f73e-41fc-f97e-ca1199e23e2d"
      },
      "execution_count": 24,
      "outputs": [
        {
          "output_type": "execute_result",
          "data": {
            "text/plain": [
              "0.006406246951218759"
            ]
          },
          "metadata": {},
          "execution_count": 24
        }
      ]
    },
    {
      "cell_type": "code",
      "source": [
        "C_lst = [0.01, 0.1, 0.5, 10]\n",
        "grid_dct = {}\n",
        "for item in C_lst:\n",
        "  kq_lst = train_model(X, y, C_num=item)\n",
        "  std = np.std(kq_lst)\n",
        "  mean = np.mean(kq_lst)\n",
        "  kq = [mean, std]\n",
        "  grid_dct.update({item: kq})\n",
        "\n"
      ],
      "metadata": {
        "id": "fnfFO15M0iUW"
      },
      "execution_count": 25,
      "outputs": []
    },
    {
      "cell_type": "code",
      "source": [
        "grid_dct"
      ],
      "metadata": {
        "colab": {
          "base_uri": "https://localhost:8080/"
        },
        "id": "IzNweeu513Q1",
        "outputId": "c2f089d2-493e-44d9-db10-24e3edc8e65b"
      },
      "execution_count": 26,
      "outputs": [
        {
          "output_type": "execute_result",
          "data": {
            "text/plain": [
              "{0.01: [0.8934000000000001, 0.004923413450036473],\n",
              " 0.1: [0.9192000000000002, 0.003867815921162747],\n",
              " 0.5: [0.9292, 0.00856504524214555],\n",
              " 10: [0.9278000000000001, 0.0062417946137309]}"
            ]
          },
          "metadata": {},
          "execution_count": 26
        }
      ]
    },
    {
      "cell_type": "code",
      "source": [],
      "metadata": {
        "id": "d1ocdVaY16AN"
      },
      "execution_count": null,
      "outputs": []
    }
  ]
}